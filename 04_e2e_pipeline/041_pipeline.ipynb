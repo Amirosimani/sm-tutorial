{
 "cells": [
  {
   "cell_type": "code",
   "execution_count": 5,
   "metadata": {},
   "outputs": [],
   "source": [
    "import json\n",
    "import time\n",
    "import pathlib\n",
    "import numpy as np\n",
    "import pandas as pd\n",
    "from time import gmtime, strftime\n",
    "\n",
    "import boto3\n",
    "import sagemaker\n",
    "from sagemaker.inputs import TrainingInput\n",
    "from sagemaker.processing import ProcessingInput, ProcessingOutput, FeatureStoreOutput\n",
    "from sagemaker.workflow.pipeline import Pipeline\n",
    "from sagemaker.sklearn.processing import SKLearnProcessor\n",
    "from sagemaker.workflow.step_collections import RegisterModel\n",
    "from sagemaker.feature_store.feature_group import FeatureGroup\n",
    "from sagemaker.workflow.parameters import ParameterInteger, ParameterFloat, ParameterString\n",
    "from sagemaker.workflow.steps import ProcessingStep, TrainingStep, CreateModelStep"
   ]
  },
  {
   "cell_type": "code",
   "execution_count": 6,
   "metadata": {},
   "outputs": [
    {
     "name": "stdout",
     "output_type": "stream",
     "text": [
      "Using AWS Region: us-east-1\n"
     ]
    }
   ],
   "source": [
    "# Set region, boto3 and SageMaker SDK variables¶\n",
    "\n",
    "#You can change this to a region of your choice\n",
    "region = sagemaker.Session().boto_region_name\n",
    "print(\"Using AWS Region: {}\".format(region))\n",
    "\n",
    "boto3.setup_default_session(region_name=region)\n",
    "boto_session = boto3.Session(region_name=region)\n",
    "\n",
    "s3_client = boto3.client('s3', region_name=region)\n",
    "sagemaker_boto_client = boto_session.client('sagemaker')\n",
    "\n",
    "sagemaker_session = sagemaker.session.Session(\n",
    "    boto_session=boto_session,\n",
    "    sagemaker_client=sagemaker_boto_client)\n",
    "\n",
    "sagemaker_role = sagemaker.get_execution_role()\n",
    "account_id = boto3.client('sts').get_caller_identity()[\"Account\"]\n",
    "\n",
    "random_state = 42"
   ]
  },
  {
   "cell_type": "code",
   "execution_count": 7,
   "metadata": {},
   "outputs": [
    {
     "name": "stdout",
     "output_type": "stream",
     "text": [
      "Stored variables and their in-db values:\n",
      "clarify_data_uri                    -> 's3://sagemaker-us-east-1-367158743199/sagemaker-t\n",
      "data_prefix                         -> 'sagemaker-tutorial/data'\n",
      "default_bucket                      -> 'sagemaker-us-east-1-367158743199'\n",
      "endpoint_config_name                -> 'sagemaker-tutorial-xgboost-smote-endpoint-config'\n",
      "endpoint_name                       -> 'sagemaker-tutorial-xgboost-smote-endpoint'\n",
      "feature_group_name                  -> 'FG-flow-sm-tutorial-31-16-16-17-9f41d66b'\n",
      "header                              -> ['LABEL', 'LIMIT_BAL', 'SEX', 'EDUCATION', 'MARRIA\n",
      "hyperparameters                     -> {'max_depth': '5', 'eta': '0.2', 'gamma': '4', 'mi\n",
      "local_processed_data                -> '../sm-tutorial/02_build_train/processed_data'\n",
      "model_2_name                        -> 'sagemaker-tutorial-xgboost-smote'\n",
      "model_data                          -> 's3://sagemaker-us-east-1-367158743199/tf2-resnet-\n",
      "mp2_arn                             -> 'arn:aws:sagemaker:us-east-1:367158743199:model-pa\n",
      "mpg_name                            -> 'sagemaker-tutorial'\n",
      "prefix                              -> 'sagemaker-tutorial'\n",
      "s3_raw_data                         -> 's3://sagemaker-us-east-1-367158743199/sagemaker-t\n",
      "s3_train_data                       -> 's3://sagemaker-us-east-1-367158743199/sagemaker-t\n",
      "s3_validation_data                  -> 's3://sagemaker-us-east-1-367158743199/sagemaker-t\n",
      "test_data_uri                       -> 's3://sagemaker-us-east-1-367158743199/sagemaker-t\n",
      "test_res_data_uri                   -> 's3://sagemaker-us-east-1-367158743199/sagemaker-t\n",
      "train_data_uri                      -> 's3://sagemaker-us-east-1-367158743199/sagemaker-t\n",
      "train_res_data_uri                  -> 's3://sagemaker-us-east-1-367158743199/sagemaker-t\n",
      "training_job_1_name                 -> 'sagemaker-xgboost-2021-04-01-19-55-41-144'\n",
      "training_smote_job_name             -> 'sagemaker-xgboost-210402-2000-006-314681ab'\n",
      "validation_data_uri                 -> 's3://sagemaker-us-east-1-367158743199/sagemaker-t\n",
      "validation_res_data_uri             -> 's3://sagemaker-us-east-1-367158743199/sagemaker-t\n"
     ]
    }
   ],
   "source": [
    "%store -r\n",
    "%store"
   ]
  },
  {
   "cell_type": "markdown",
   "metadata": {},
   "source": [
    "# Step 1 - Data Wranlger Step"
   ]
  },
  {
   "cell_type": "code",
   "execution_count": null,
   "metadata": {},
   "outputs": [],
   "source": []
  }
 ],
 "metadata": {
  "kernelspec": {
   "display_name": "Python 3 (Data Science)",
   "language": "python",
   "name": "python3__SAGEMAKER_INTERNAL__arn:aws:sagemaker:us-east-1:081325390199:image/datascience-1.0"
  },
  "language_info": {
   "codemirror_mode": {
    "name": "ipython",
    "version": 3
   },
   "file_extension": ".py",
   "mimetype": "text/x-python",
   "name": "python",
   "nbconvert_exporter": "python",
   "pygments_lexer": "ipython3",
   "version": "3.7.10"
  }
 },
 "nbformat": 4,
 "nbformat_minor": 4
}
