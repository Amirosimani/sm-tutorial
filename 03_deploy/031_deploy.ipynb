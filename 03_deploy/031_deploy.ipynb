{
 "cells": [
  {
   "cell_type": "code",
   "execution_count": 90,
   "metadata": {},
   "outputs": [],
   "source": [
    "# import os\n",
    "import json\n",
    "import time\n",
    "import boto3\n",
    "import pandas as pd\n",
    "# from imblearn.over_sampling import SMOTE\n",
    "# from sklearn.model_selection import train_test_split\n",
    "\n",
    "import sagemaker\n",
    "# from sagemaker.inputs import TrainingInput\n",
    "# from sagemaker.xgboost.estimator import XGBoost\n",
    "# from sagemaker.debugger import Rule, rule_configs\n",
    "# from sagemaker.tuner import IntegerParameter, ContinuousParameter, HyperparameterTuner\n",
    "\n",
    "# from sagemaker import clarify\n",
    "# from sagemaker.session import Session\n"
   ]
  },
  {
   "cell_type": "code",
   "execution_count": 2,
   "metadata": {},
   "outputs": [
    {
     "name": "stdout",
     "output_type": "stream",
     "text": [
      "Using AWS Region: us-east-1\n"
     ]
    }
   ],
   "source": [
    "# Set region, boto3 and SageMaker SDK variables¶\n",
    "\n",
    "#You can change this to a region of your choice\n",
    "region = sagemaker.Session().boto_region_name\n",
    "print(\"Using AWS Region: {}\".format(region))\n",
    "\n",
    "boto3.setup_default_session(region_name=region)\n",
    "boto_session = boto3.Session(region_name=region)\n",
    "\n",
    "s3_client = boto3.client('s3', region_name=region)\n",
    "sagemaker_boto_client = boto_session.client('sagemaker')\n",
    "\n",
    "sagemaker_session = sagemaker.session.Session(\n",
    "    boto_session=boto_session,\n",
    "    sagemaker_client=sagemaker_boto_client)\n",
    "\n",
    "sagemaker_role = sagemaker.get_execution_role()\n",
    "account_id = boto3.client('sts').get_caller_identity()[\"Account\"]\n",
    "\n",
    "random_state = 42"
   ]
  },
  {
   "cell_type": "code",
   "execution_count": 26,
   "metadata": {},
   "outputs": [
    {
     "name": "stdout",
     "output_type": "stream",
     "text": [
      "Stored variables and their in-db values:\n",
      "clarify_data_uri                    -> 's3://sagemaker-us-east-1-367158743199/sagemaker-t\n",
      "data_prefix                         -> 'sagemaker-tutorial/data'\n",
      "default_bucket                      -> 'sagemaker-us-east-1-367158743199'\n",
      "endpoint_config_name                -> 'sagemaker-tutorial-xgboost-smote-endpoint-config'\n",
      "endpoint_name                       -> 'sagemaker-tutorial-xgboost-smote-endpoint'\n",
      "feature_group_name                  -> 'FG-flow-sm-tutorial-31-16-16-17-9f41d66b'\n",
      "header                              -> ['LABEL', 'LIMIT_BAL', 'SEX', 'EDUCATION', 'MARRIA\n",
      "hyperparameters                     -> {'max_depth': '5', 'eta': '0.2', 'gamma': '4', 'mi\n",
      "local_processed_data                -> '../sm-tutorial/02_build_train/processed_data'\n",
      "model_2_name                        -> 'sagemaker-tutorial-xgboost-smote'\n",
      "model_data                          -> 's3://sagemaker-us-east-1-367158743199/tf2-resnet-\n",
      "mp2_arn                             -> 'arn:aws:sagemaker:us-east-1:367158743199:model-pa\n",
      "mpg_name                            -> 'sagemaker-tutorial'\n",
      "prefix                              -> 'sagemaker-tutorial'\n",
      "s3_raw_data                         -> 's3://sagemaker-us-east-1-367158743199/sagemaker-t\n",
      "s3_train_data                       -> 's3://sagemaker-us-east-1-367158743199/sagemaker-t\n",
      "s3_validation_data                  -> 's3://sagemaker-us-east-1-367158743199/sagemaker-t\n",
      "test_data_uri                       -> 's3://sagemaker-us-east-1-367158743199/sagemaker-t\n",
      "test_res_data_uri                   -> 's3://sagemaker-us-east-1-367158743199/sagemaker-t\n",
      "train_data_uri                      -> 's3://sagemaker-us-east-1-367158743199/sagemaker-t\n",
      "train_res_data_uri                  -> 's3://sagemaker-us-east-1-367158743199/sagemaker-t\n",
      "training_job_1_name                 -> 'sagemaker-xgboost-2021-04-01-19-55-41-144'\n",
      "training_smote_job_name             -> 'sagemaker-xgboost-210402-2000-006-314681ab'\n",
      "validation_data_uri                 -> 's3://sagemaker-us-east-1-367158743199/sagemaker-t\n",
      "validation_res_data_uri             -> 's3://sagemaker-us-east-1-367158743199/sagemaker-t\n"
     ]
    }
   ],
   "source": [
    "%store -r\n",
    "%store"
   ]
  },
  {
   "cell_type": "markdown",
   "metadata": {},
   "source": [
    "# Approve the Second model"
   ]
  },
  {
   "cell_type": "code",
   "execution_count": 4,
   "metadata": {},
   "outputs": [],
   "source": [
    "second_model_package = sagemaker_boto_client.list_model_packages(ModelPackageGroupName=mpg_name)['ModelPackageSummaryList'][0]\n",
    "model_package_update = {\n",
    "    'ModelPackageArn': second_model_package['ModelPackageArn'],\n",
    "    'ModelApprovalStatus': 'Approved'\n",
    "}\n",
    "\n",
    "update_response = sagemaker_boto_client.update_model_package(**model_package_update)"
   ]
  },
  {
   "cell_type": "markdown",
   "metadata": {},
   "source": [
    "# Create an endpoint config + endpoint"
   ]
  },
  {
   "cell_type": "code",
   "execution_count": null,
   "metadata": {},
   "outputs": [],
   "source": [
    "primary_container"
   ]
  },
  {
   "cell_type": "code",
   "execution_count": 6,
   "metadata": {},
   "outputs": [],
   "source": [
    "approved_model_name = model_2_name\n",
    "\n",
    "endpoint_name = f'{approved_model_name}-endpoint'\n",
    "endpoint_instance_count = 1\n",
    "endpoint_instance_type = \"ml.m4.xlarge\"\n",
    "\n",
    "\n",
    "primary_container = {'ModelPackageName': second_model_package['ModelPackageArn']}\n",
    "endpoint_config_name=f'{approved_model_name}-endpoint-config'\n",
    "existing_configs = len(sagemaker_boto_client.list_endpoint_configs(NameContains=endpoint_config_name, MaxResults = 30)['EndpointConfigs'])\n",
    "\n",
    "if existing_configs == 0:\n",
    "    create_ep_config_response = sagemaker_boto_client.create_endpoint_config(\n",
    "        EndpointConfigName=endpoint_config_name,\n",
    "        ProductionVariants=[{\n",
    "            'InstanceType': endpoint_instance_type,\n",
    "            'InitialVariantWeight': 1,\n",
    "            'InitialInstanceCount': endpoint_instance_count,\n",
    "            'ModelName': approved_model_name,\n",
    "            'VariantName': 'AllTraffic'\n",
    "        }]\n",
    "    )\n",
    "    %store endpoint_config_name\n",
    "    %approved_model_name"
   ]
  },
  {
   "cell_type": "code",
   "execution_count": 10,
   "metadata": {},
   "outputs": [
    {
     "name": "stdout",
     "output_type": "stream",
     "text": [
      "Endpoint status: Creating\n",
      "Endpoint status: Creating\n",
      "Endpoint status: Creating\n",
      "Endpoint status: Creating\n",
      "Endpoint status: Creating\n",
      "Endpoint status: Creating\n",
      "Endpoint status: Creating\n",
      "Endpoint status: Creating\n",
      "Endpoint status: InService\n"
     ]
    }
   ],
   "source": [
    "existing_endpoints = sagemaker_boto_client.list_endpoints(NameContains=endpoint_name, MaxResults = 30)['Endpoints']\n",
    "if not existing_endpoints:\n",
    "    create_endpoint_response = sagemaker_boto_client.create_endpoint(\n",
    "        EndpointName=endpoint_name,\n",
    "        EndpointConfigName=endpoint_config_name)\n",
    "    %store endpoint_name\n",
    "\n",
    "endpoint_info = sagemaker_boto_client.describe_endpoint(EndpointName=endpoint_name)\n",
    "endpoint_status = endpoint_info['EndpointStatus']\n",
    "\n",
    "while endpoint_status == 'Creating':\n",
    "    endpoint_info = sagemaker_boto_client.describe_endpoint(EndpointName=endpoint_name)\n",
    "    endpoint_status = endpoint_info['EndpointStatus']\n",
    "    print('Endpoint status:', endpoint_status)\n",
    "    if endpoint_status == 'Creating':\n",
    "        time.sleep(60)\n",
    "\n"
   ]
  },
  {
   "cell_type": "markdown",
   "metadata": {},
   "source": [
    "## Create a predictor"
   ]
  },
  {
   "cell_type": "code",
   "execution_count": 11,
   "metadata": {},
   "outputs": [],
   "source": [
    "predictor = sagemaker.predictor.Predictor(\n",
    "    endpoint_name=endpoint_name,\n",
    "    sagemaker_session=sagemaker_session)"
   ]
  },
  {
   "cell_type": "markdown",
   "metadata": {},
   "source": [
    "# Make predictions!"
   ]
  },
  {
   "cell_type": "markdown",
   "metadata": {},
   "source": [
    "### sample a row from the test data"
   ]
  },
  {
   "cell_type": "code",
   "execution_count": 14,
   "metadata": {},
   "outputs": [
    {
     "name": "stdout",
     "output_type": "stream",
     "text": [
      "download: s3://sagemaker-us-east-1-367158743199/sagemaker-tutorial/data/test.csv to data/test.csv\n"
     ]
    }
   ],
   "source": [
    "!aws s3 cp $test_data_uri ./data/"
   ]
  },
  {
   "cell_type": "code",
   "execution_count": 39,
   "metadata": {},
   "outputs": [],
   "source": [
    "df_test = pd.read_csv('./data/test.csv', header=None)\n",
    "df_test.columns = header"
   ]
  },
  {
   "cell_type": "markdown",
   "metadata": {},
   "source": [
    "### get sample data. from online featre store"
   ]
  },
  {
   "cell_type": "code",
   "execution_count": 40,
   "metadata": {},
   "outputs": [],
   "source": [
    "featurestore_runtime = boto_session.client(service_name='sagemaker-featurestore-runtime', region_name=region)\n",
    "\n",
    "feature_store_session = sagemaker.Session(\n",
    "    boto_session=boto_session,\n",
    "    sagemaker_client=sagemaker_boto_client,\n",
    "    sagemaker_featurestore_runtime_client=featurestore_runtime\n",
    ")"
   ]
  },
  {
   "cell_type": "code",
   "execution_count": 43,
   "metadata": {},
   "outputs": [],
   "source": [
    "fg_response = featurestore_runtime.get_record(\n",
    "    FeatureGroupName=feature_group_name, \n",
    "    RecordIdentifierValueAsString= str(1.0)\n",
    "\n",
    ")\n",
    "\n",
    "if (fg_response.get('Record')):\n",
    "    fg_response = fg_response['Record']\n",
    "    df_sample = pd.DataFrame(fg_response).set_index('FeatureName')\n",
    "else:\n",
    "    print (\"No Record returned / Record Key  \\n\")\n"
   ]
  },
  {
   "cell_type": "code",
   "execution_count": 63,
   "metadata": {},
   "outputs": [],
   "source": [
    "df_test = pd.DataFrame(fg_response).set_index('FeatureName').T.reset_index()\n",
    "\n",
    "df_test = df_test.drop(columns=['index', 'LABEL', 'ID', 'EVENT_TIME'])\n",
    "\n",
    "test_input = ','.join(df_test.values.flatten().tolist())"
   ]
  },
  {
   "cell_type": "code",
   "execution_count": 95,
   "metadata": {},
   "outputs": [
    {
     "name": "stdout",
     "output_type": "stream",
     "text": [
      "Probablitity of default is: 0.7100669741630554\n"
     ]
    }
   ],
   "source": [
    "results = predictor.predict(test_input, initial_args = {\"ContentType\": \"text/csv\"})\n",
    "prediction = json.loads(results)\n",
    "prediction\n",
    "print (f'Probablitity of default is:', prediction)"
   ]
  }
 ],
 "metadata": {
  "instance_type": "ml.t3.medium",
  "kernelspec": {
   "display_name": "Python 3 (Data Science)",
   "language": "python",
   "name": "python3__SAGEMAKER_INTERNAL__arn:aws:sagemaker:us-east-1:081325390199:image/datascience-1.0"
  },
  "language_info": {
   "codemirror_mode": {
    "name": "ipython",
    "version": 3
   },
   "file_extension": ".py",
   "mimetype": "text/x-python",
   "name": "python",
   "nbconvert_exporter": "python",
   "pygments_lexer": "ipython3",
   "version": "3.7.10"
  }
 },
 "nbformat": 4,
 "nbformat_minor": 4
}
