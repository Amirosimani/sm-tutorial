{
 "cells": [
  {
   "cell_type": "code",
   "execution_count": 1,
   "metadata": {},
   "outputs": [],
   "source": [
    "# Importing required libraries.\n",
    "import pandas as pd"
   ]
  },
  {
   "cell_type": "markdown",
   "metadata": {},
   "source": [
    "# Data Wrangler\n",
    "\n",
    "\n",
    "Amazon SageMaker Data Wrangler reduces the time it takes to aggregate and prepare data for machine learning (ML). With SageMaker Data Wrangler, you can simplify the process of data preparation and feature engineering, and complete each step of the data preparation workflow, including data selection, cleansing, exploration, and visualization from a single visual interface.\n",
    "\n",
    " However for this demo we are using `Transform` steps on the data stored in `s3_raw_data` in order to:\n",
    " 1. rename target column\n",
    " 2. move it to the begining of the dataframe\n",
    " 3. create a new column with time stamp using custom transform\n",
    "  \n",
    "     <code>import pandas as pd\n",
    "        import numpy as np\n",
    "        timestamp = pd.to_datetime('now').timestamp()\n",
    "        df['EVENT_TIME'] = timestamp\n",
    "        df = df.astype(np.float64)\n",
    "     </code>\n",
    "        \n",
    "        \n",
    "         \n",
    " \n",
    "\n",
    " \n",
    "<span style=\"color:red\">**TODO:  ADD DATAWRANGLER SCREENSHOTS + Bias**</span>\n",
    "\n",
    " \n",
    "<span style=\"color:red\">**TODO:  IAM Policies required for the demo including [feature store] and lake formation access to feature store (https://docs.aws.amazon.com/sagemaker/latest/dg/feature-store-adding-policies.html)**</span>\n"
   ]
  },
  {
   "cell_type": "code",
   "execution_count": null,
   "metadata": {},
   "outputs": [],
   "source": []
  },
  {
   "cell_type": "code",
   "execution_count": null,
   "metadata": {},
   "outputs": [],
   "source": []
  }
 ],
 "metadata": {
  "instance_type": "ml.t3.medium",
  "kernelspec": {
   "display_name": "Python 3 (Data Science)",
   "language": "python",
   "name": "python3__SAGEMAKER_INTERNAL__arn:aws:sagemaker:us-east-1:081325390199:image/datascience-1.0"
  },
  "language_info": {
   "codemirror_mode": {
    "name": "ipython",
    "version": 3
   },
   "file_extension": ".py",
   "mimetype": "text/x-python",
   "name": "python",
   "nbconvert_exporter": "python",
   "pygments_lexer": "ipython3",
   "version": "3.7.10"
  }
 },
 "nbformat": 4,
 "nbformat_minor": 4
}
