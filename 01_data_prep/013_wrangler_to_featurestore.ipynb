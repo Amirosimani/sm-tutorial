{
 "cells": [
  {
   "cell_type": "markdown",
   "metadata": {},
   "source": [
    "# Data Wrangler Feature Store Notebook"
   ]
  },
  {
   "cell_type": "markdown",
   "metadata": {},
   "source": [
    "Use this notebook to create a feature group and add features to an offline or online\n",
    "feature store using a Data Wrangler .flow file.\n",
    "\n",
    "A single *feature* corresponds to a column in your dataset. A *feature group* is a predefined\n",
    "schema for a collection of features - each feature in the feature group has a specified data\n",
    "type and name. A single *record* in a feature group corresponds to a row in your datataframe.\n",
    "A *feature store* is a collection of feature groups.\n",
    "\n",
    "This notebook uses Amazon SageMaker Feature Store (Feature Store) to create a feature group\n",
    "and ingest data into feature store. To learn more about SageMaker Feature Store, see\n",
    "[Amazon Feature Store Documentation](http://docs.aws.amazon.com/sagemaker/latest/dg/feature-store.html).\n",
    "\n",
    "To create a feature group, you will create the following resources:\n",
    "* A feature definition using a schema, record identifier, and event-time feature name.\n",
    "* An online or offline store configuration.\n",
    "\n",
    "You will use a processing job to process your data at scale and ingest the data into this feature group."
   ]
  },
  {
   "cell_type": "markdown",
   "metadata": {},
   "source": [
    "First, use the following cell to install dependencies."
   ]
  },
  {
   "cell_type": "code",
   "execution_count": 21,
   "metadata": {},
   "outputs": [],
   "source": [
    "# SageMaker Python SDK version 2.x is required\n",
    "import pkg_resources\n",
    "import subprocess\n",
    "import sys\n",
    "\n",
    "original_version = pkg_resources.get_distribution(\"sagemaker\").version\n",
    "_ = subprocess.check_call(\n",
    "    [sys.executable, \"-m\", \"pip\", \"install\", \"sagemaker==2.20.0\"]\n",
    "    )"
   ]
  },
  {
   "cell_type": "code",
   "execution_count": 22,
   "metadata": {},
   "outputs": [],
   "source": [
    "import os\n",
    "import uuid\n",
    "import json\n",
    "import time\n",
    "import boto3\n",
    "import sagemaker"
   ]
  },
  {
   "cell_type": "markdown",
   "metadata": {},
   "source": [
    "## Parameters\n",
    "The following lists configurable parameters that are used throughout this notebook."
   ]
  },
  {
   "cell_type": "code",
   "execution_count": 23,
   "metadata": {},
   "outputs": [],
   "source": [
    "# S3 bucket for saving processing job outputs\n",
    "# Feel free to specify a different bucket here if you wish.\n",
    "sess = sagemaker.Session()\n",
    "bucket = sess.default_bucket()\n",
    "prefix = \"data_wrangler_flows\"\n",
    "flow_id = f\"{time.strftime('%d-%H-%M-%S', time.gmtime())}-{str(uuid.uuid4())[:8]}\"\n",
    "flow_name = f\"flow-sm-tutorial-{flow_id}\"  # CHANGED ********\n",
    "flow_uri = f\"s3://{bucket}/{prefix}/{flow_name}.flow\"\n",
    "\n",
    "flow_file_name = \"./01_data_prep/wrangler.flow\" # CHANGED ********\n",
    "\n",
    "iam_role = sagemaker.get_execution_role()\n",
    "\n",
    "container_uri = \"663277389841.dkr.ecr.us-east-1.amazonaws.com/sagemaker-data-wrangler-container:1.x\"\n",
    "\n",
    "# Processing Job Resources Configurations\n",
    "processing_job_name = f\"data-wrangler-feature-store-processing-{flow_id}\"\n",
    "processing_dir = \"/opt/ml/processing\"\n",
    "\n",
    "# URL to use for sagemaker client.\n",
    "# If this is None, boto will automatically construct the appropriate URL to use\n",
    "# when communicating with sagemaker.\n",
    "sagemaker_endpoint_url = None"
   ]
  },
  {
   "cell_type": "code",
   "execution_count": 24,
   "metadata": {},
   "outputs": [
    {
     "data": {
      "text/plain": [
       "'arn:aws:iam::367158743199:role/service-role/AmazonSageMaker-ExecutionRole-20201216T145690'"
      ]
     },
     "execution_count": 24,
     "metadata": {},
     "output_type": "execute_result"
    }
   ],
   "source": [
    "iam_role"
   ]
  },
  {
   "cell_type": "markdown",
   "metadata": {},
   "source": [
    "## Push Flow to S3\n",
    "Use the following cell to upload the Data Wrangler .flow file to Amazon S3 so that\n",
    "it can be used as an input to the processing job."
   ]
  },
  {
   "cell_type": "code",
   "execution_count": 25,
   "metadata": {},
   "outputs": [
    {
     "name": "stdout",
     "output_type": "stream",
     "text": [
      "Data Wrangler Flow notebook uploaded to s3://sagemaker-us-east-1-367158743199/data_wrangler_flows/flow-sm-tutorial-31-16-16-17-9f41d66b.flow\n"
     ]
    }
   ],
   "source": [
    "# Load .flow file\n",
    "with open(flow_file_name) as f:\n",
    "    flow = json.load(f)\n",
    "\n",
    "# Upload to S3\n",
    "s3_client = boto3.client(\"s3\")\n",
    "s3_client.upload_file(flow_file_name, bucket, f\"{prefix}/{flow_name}.flow\")\n",
    "\n",
    "print(f\"Data Wrangler Flow notebook uploaded to {flow_uri}\")"
   ]
  },
  {
   "cell_type": "markdown",
   "metadata": {},
   "source": [
    "## Create Feature Group"
   ]
  },
  {
   "cell_type": "code",
   "execution_count": 26,
   "metadata": {},
   "outputs": [
    {
     "name": "stdout",
     "output_type": "stream",
     "text": [
      "Feature Group Name: FG-flow-sm-tutorial-31-16-16-17-9f41d66b\n"
     ]
    }
   ],
   "source": [
    "feature_group_name = f'FG-{flow_name}'\n",
    "print(f\"Feature Group Name: {feature_group_name}\")\n",
    "\n",
    "%store feature_group_name"
   ]
  },
  {
   "cell_type": "markdown",
   "metadata": {},
   "source": [
    "The following cell maps types between Data Wrangler supported types and Feature Store\n",
    "supported types (`String`, `Fractional`, and `Integral`). The default type is set to `String`.\n",
    "This means that, if a column in your dataset is not a `float` or `long` type,\n",
    "it will default to `String` in your Feature Store."
   ]
  },
  {
   "cell_type": "code",
   "execution_count": 27,
   "metadata": {},
   "outputs": [],
   "source": [
    "datawrangler_FG_type_mapping = {\n",
    "    'float': 'Fractional',\n",
    "    'long': 'Integral'\n",
    "}\n",
    "\n",
    "# Some schema types in Data Wrangler are not supported by Feature Store.\n",
    "# Feature store supports String, Integral, and Fractional types.\n",
    "# The following will create a default_FG_type set to String for these types.\n",
    "default_FG_type = \"String\"\n"
   ]
  },
  {
   "cell_type": "markdown",
   "metadata": {},
   "source": [
    "The following is a list of the column names and data types of the final dataset that will be produced\n",
    "when your data flow is used to process your input dataset."
   ]
  },
  {
   "cell_type": "code",
   "execution_count": 28,
   "metadata": {},
   "outputs": [],
   "source": [
    "column_schema = [\n",
    "    {\n",
    "        \"name\": \"LABEL\",\n",
    "        \"type\": \"float\"\n",
    "    },\n",
    "    {\n",
    "        \"name\": \"ID\",\n",
    "        \"type\": \"float\"\n",
    "    },\n",
    "    {\n",
    "        \"name\": \"LIMIT_BAL\",\n",
    "        \"type\": \"float\"\n",
    "    },\n",
    "    {\n",
    "        \"name\": \"SEX\",\n",
    "        \"type\": \"float\"\n",
    "    },\n",
    "    {\n",
    "        \"name\": \"EDUCATION\",\n",
    "        \"type\": \"float\"\n",
    "    },\n",
    "    {\n",
    "        \"name\": \"MARRIAGE\",\n",
    "        \"type\": \"float\"\n",
    "    },\n",
    "    {\n",
    "        \"name\": \"AGE\",\n",
    "        \"type\": \"float\"\n",
    "    },\n",
    "    {\n",
    "        \"name\": \"PAY_0\",\n",
    "        \"type\": \"float\"\n",
    "    },\n",
    "    {\n",
    "        \"name\": \"PAY_2\",\n",
    "        \"type\": \"float\"\n",
    "    },\n",
    "    {\n",
    "        \"name\": \"PAY_3\",\n",
    "        \"type\": \"float\"\n",
    "    },\n",
    "    {\n",
    "        \"name\": \"PAY_4\",\n",
    "        \"type\": \"float\"\n",
    "    },\n",
    "    {\n",
    "        \"name\": \"PAY_5\",\n",
    "        \"type\": \"float\"\n",
    "    },\n",
    "    {\n",
    "        \"name\": \"PAY_6\",\n",
    "        \"type\": \"float\"\n",
    "    },\n",
    "    {\n",
    "        \"name\": \"BILL_AMT1\",\n",
    "        \"type\": \"float\"\n",
    "    },\n",
    "    {\n",
    "        \"name\": \"BILL_AMT2\",\n",
    "        \"type\": \"float\"\n",
    "    },\n",
    "    {\n",
    "        \"name\": \"BILL_AMT3\",\n",
    "        \"type\": \"float\"\n",
    "    },\n",
    "    {\n",
    "        \"name\": \"BILL_AMT4\",\n",
    "        \"type\": \"float\"\n",
    "    },\n",
    "    {\n",
    "        \"name\": \"BILL_AMT5\",\n",
    "        \"type\": \"float\"\n",
    "    },\n",
    "    {\n",
    "        \"name\": \"BILL_AMT6\",\n",
    "        \"type\": \"float\"\n",
    "    },\n",
    "    {\n",
    "        \"name\": \"PAY_AMT1\",\n",
    "        \"type\": \"float\"\n",
    "    },\n",
    "    {\n",
    "        \"name\": \"PAY_AMT2\",\n",
    "        \"type\": \"float\"\n",
    "    },\n",
    "    {\n",
    "        \"name\": \"PAY_AMT3\",\n",
    "        \"type\": \"float\"\n",
    "    },\n",
    "    {\n",
    "        \"name\": \"PAY_AMT4\",\n",
    "        \"type\": \"float\"\n",
    "    },\n",
    "    {\n",
    "        \"name\": \"PAY_AMT5\",\n",
    "        \"type\": \"float\"\n",
    "    },\n",
    "    {\n",
    "        \"name\": \"PAY_AMT6\",\n",
    "        \"type\": \"float\"\n",
    "    },\n",
    "    {\n",
    "        \"name\": \"EVENT_TIME\",\n",
    "        \"type\": \"float\"\n",
    "    }\n",
    "]\n"
   ]
  },
  {
   "cell_type": "markdown",
   "metadata": {},
   "source": [
    "Select Record identifier and Event time feature name. These are required parameters for feature group\n",
    "creation.\n",
    "* **Record identifier name** is the name of the feature whose value uniquely identiﬁes a Record\n",
    "deﬁned in the feature group's feature definitions.\n",
    "* **Event time feature name** is the name of the EventTime of a Record in FeatureGroup.\n",
    "A EventTime is point in time when a new event occurs that corresponds to the creation or update of a\n",
    "Record in FeatureGroup. All Records in the FeatureGroup must have a corresponding EventTime."
   ]
  },
  {
   "cell_type": "code",
   "execution_count": 29,
   "metadata": {},
   "outputs": [
    {
     "name": "stdout",
     "output_type": "stream",
     "text": [
      "[{'FeatureName': 'LABEL', 'FeatureType': 'Fractional'}, {'FeatureName': 'ID', 'FeatureType': 'Fractional'}, {'FeatureName': 'LIMIT_BAL', 'FeatureType': 'Fractional'}, {'FeatureName': 'SEX', 'FeatureType': 'Fractional'}, {'FeatureName': 'EDUCATION', 'FeatureType': 'Fractional'}, {'FeatureName': 'MARRIAGE', 'FeatureType': 'Fractional'}, {'FeatureName': 'AGE', 'FeatureType': 'Fractional'}, {'FeatureName': 'PAY_0', 'FeatureType': 'Fractional'}, {'FeatureName': 'PAY_2', 'FeatureType': 'Fractional'}, {'FeatureName': 'PAY_3', 'FeatureType': 'Fractional'}, {'FeatureName': 'PAY_4', 'FeatureType': 'Fractional'}, {'FeatureName': 'PAY_5', 'FeatureType': 'Fractional'}, {'FeatureName': 'PAY_6', 'FeatureType': 'Fractional'}, {'FeatureName': 'BILL_AMT1', 'FeatureType': 'Fractional'}, {'FeatureName': 'BILL_AMT2', 'FeatureType': 'Fractional'}, {'FeatureName': 'BILL_AMT3', 'FeatureType': 'Fractional'}, {'FeatureName': 'BILL_AMT4', 'FeatureType': 'Fractional'}, {'FeatureName': 'BILL_AMT5', 'FeatureType': 'Fractional'}, {'FeatureName': 'BILL_AMT6', 'FeatureType': 'Fractional'}, {'FeatureName': 'PAY_AMT1', 'FeatureType': 'Fractional'}, {'FeatureName': 'PAY_AMT2', 'FeatureType': 'Fractional'}, {'FeatureName': 'PAY_AMT3', 'FeatureType': 'Fractional'}, {'FeatureName': 'PAY_AMT4', 'FeatureType': 'Fractional'}, {'FeatureName': 'PAY_AMT5', 'FeatureType': 'Fractional'}, {'FeatureName': 'PAY_AMT6', 'FeatureType': 'Fractional'}, {'FeatureName': 'EVENT_TIME', 'FeatureType': 'Fractional'}]\n"
     ]
    }
   ],
   "source": [
    "record_identifier_name = 'ID' # CHANGED ********\n",
    "if record_identifier_name is None:\n",
    "   raise RuntimeError(\"Select a column name as the feature group identifier.\")\n",
    "\n",
    "event_time_feature_name = 'EVENT_TIME' # CHANGED ********\n",
    "if event_time_feature_name is None:\n",
    "   raise RuntimeError(\"Select a column name as the event time feature name.\")\n",
    "\n",
    "# Below you map the schema detected from Data Wrangler to Feature Group Types.\n",
    "feature_definitions = [\n",
    "    {\n",
    "        \"FeatureName\": schema['name'],\n",
    "        \"FeatureType\": datawrangler_FG_type_mapping.get(\n",
    "            schema['type'],\n",
    "            default_FG_type\n",
    "         )\n",
    "    } for schema in column_schema\n",
    "]\n",
    "print(feature_definitions)\n"
   ]
  },
  {
   "cell_type": "markdown",
   "metadata": {},
   "source": [
    "The following are your online and offline store configurations. You enable an online\n",
    "store by setting `EnableOnlineStore` to `True`. The offline store is located in an\n",
    "Amazon S3 bucket in your account. To update the bucket used, update the\n",
    "parameter `bucket` in the second code cell in this notebook."
   ]
  },
  {
   "cell_type": "code",
   "execution_count": 30,
   "metadata": {},
   "outputs": [
    {
     "name": "stdout",
     "output_type": "stream",
     "text": [
      "Feature Group Status: Creating\n",
      "Feature Group Status: Creating\n",
      "Feature Group Status: Creating\n",
      "Feature Group Status: Creating\n",
      "Feature Group Status: Created\n",
      "{'FeatureGroupArn': 'arn:aws:sagemaker:us-east-1:367158743199:feature-group/fg-flow-sm-tutorial-31-16-16-17-9f41d66b', 'FeatureGroupName': 'FG-flow-sm-tutorial-31-16-16-17-9f41d66b', 'RecordIdentifierFeatureName': 'ID', 'EventTimeFeatureName': 'EVENT_TIME', 'FeatureDefinitions': [{'FeatureName': 'LABEL', 'FeatureType': 'Fractional'}, {'FeatureName': 'ID', 'FeatureType': 'Fractional'}, {'FeatureName': 'LIMIT_BAL', 'FeatureType': 'Fractional'}, {'FeatureName': 'SEX', 'FeatureType': 'Fractional'}, {'FeatureName': 'EDUCATION', 'FeatureType': 'Fractional'}, {'FeatureName': 'MARRIAGE', 'FeatureType': 'Fractional'}, {'FeatureName': 'AGE', 'FeatureType': 'Fractional'}, {'FeatureName': 'PAY_0', 'FeatureType': 'Fractional'}, {'FeatureName': 'PAY_2', 'FeatureType': 'Fractional'}, {'FeatureName': 'PAY_3', 'FeatureType': 'Fractional'}, {'FeatureName': 'PAY_4', 'FeatureType': 'Fractional'}, {'FeatureName': 'PAY_5', 'FeatureType': 'Fractional'}, {'FeatureName': 'PAY_6', 'FeatureType': 'Fractional'}, {'FeatureName': 'BILL_AMT1', 'FeatureType': 'Fractional'}, {'FeatureName': 'BILL_AMT2', 'FeatureType': 'Fractional'}, {'FeatureName': 'BILL_AMT3', 'FeatureType': 'Fractional'}, {'FeatureName': 'BILL_AMT4', 'FeatureType': 'Fractional'}, {'FeatureName': 'BILL_AMT5', 'FeatureType': 'Fractional'}, {'FeatureName': 'BILL_AMT6', 'FeatureType': 'Fractional'}, {'FeatureName': 'PAY_AMT1', 'FeatureType': 'Fractional'}, {'FeatureName': 'PAY_AMT2', 'FeatureType': 'Fractional'}, {'FeatureName': 'PAY_AMT3', 'FeatureType': 'Fractional'}, {'FeatureName': 'PAY_AMT4', 'FeatureType': 'Fractional'}, {'FeatureName': 'PAY_AMT5', 'FeatureType': 'Fractional'}, {'FeatureName': 'PAY_AMT6', 'FeatureType': 'Fractional'}, {'FeatureName': 'EVENT_TIME', 'FeatureType': 'Fractional'}], 'CreationTime': datetime.datetime(2021, 3, 31, 16, 16, 22, 679000, tzinfo=tzlocal()), 'OnlineStoreConfig': {'EnableOnlineStore': True}, 'OfflineStoreConfig': {'S3StorageConfig': {'S3Uri': 's3://sagemaker-us-east-1-367158743199', 'ResolvedOutputS3Uri': 's3://sagemaker-us-east-1-367158743199/367158743199/sagemaker/us-east-1/offline-store/FG-flow-sm-tutorial-31-16-16-17-9f41d66b-1617207382/data'}, 'DisableGlueTableCreation': False, 'DataCatalogConfig': {'TableName': 'fg-flow-sm-tutorial-31-16-16-17-9f41d66b-1617207382', 'Catalog': 'AwsDataCatalog', 'Database': 'sagemaker_featurestore'}}, 'RoleArn': 'arn:aws:iam::367158743199:role/service-role/AmazonSageMaker-ExecutionRole-20201216T145690', 'FeatureGroupStatus': 'Created', 'ResponseMetadata': {'RequestId': 'b55dcc52-70a2-4cd2-b0df-f0c7cb898754', 'HTTPStatusCode': 200, 'HTTPHeaders': {'x-amzn-requestid': 'b55dcc52-70a2-4cd2-b0df-f0c7cb898754', 'content-type': 'application/x-amz-json-1.1', 'content-length': '2624', 'date': 'Wed, 31 Mar 2021 16:16:34 GMT'}, 'RetryAttempts': 0}}\n"
     ]
    }
   ],
   "source": [
    "sagemaker_client = boto3.client(\"sagemaker\", endpoint_url=sagemaker_endpoint_url)\n",
    "\n",
    "# Online Store Configuration\n",
    "online_store_config = {\n",
    "    \"EnableOnlineStore\": True\n",
    "}\n",
    "\n",
    "# Offline Store Configuration\n",
    "s3_uri = 's3://' + bucket # this is the default bucket defined in previous cells\n",
    "offline_store_config = {\n",
    "    \"S3StorageConfig\": {\n",
    "        \"S3Uri\": s3_uri\n",
    "    }\n",
    "}\n",
    "\n",
    "# Create Feature Group\n",
    "create_fg_response = sagemaker_client.create_feature_group(\n",
    "    FeatureGroupName = feature_group_name,\n",
    "    EventTimeFeatureName = event_time_feature_name,\n",
    "    RecordIdentifierFeatureName = record_identifier_name,\n",
    "    FeatureDefinitions = feature_definitions,\n",
    "    OnlineStoreConfig = online_store_config,\n",
    "    OfflineStoreConfig = offline_store_config,\n",
    "    RoleArn = iam_role)\n",
    "\n",
    "# Describe Feature Group\n",
    "status = sagemaker_client.describe_feature_group(FeatureGroupName=feature_group_name)\n",
    "while status['FeatureGroupStatus'] != 'Created':\n",
    "    if status['FeatureGroupStatus'] == 'CreateFailed':\n",
    "        raise RuntimeError(f\"Feature Group Creation Failed: {status}\")\n",
    "    status = sagemaker_client.describe_feature_group(FeatureGroupName=feature_group_name)\n",
    "    print(\"Feature Group Status: \" + status['FeatureGroupStatus'])\n",
    "    time.sleep(3)\n",
    "\n",
    "print(status)\n"
   ]
  },
  {
   "cell_type": "markdown",
   "metadata": {},
   "source": [
    "Use the following code cell to define helper functions for creating inputs to\n",
    "a processing job."
   ]
  },
  {
   "cell_type": "code",
   "execution_count": 31,
   "metadata": {},
   "outputs": [],
   "source": [
    "def create_flow_notebook_processing_input(base_dir, flow_s3_uri):\n",
    "    return {\n",
    "        \"InputName\": \"flow\",\n",
    "        \"S3Input\": {\n",
    "            \"LocalPath\": f\"{base_dir}/flow\",\n",
    "            \"S3Uri\": flow_s3_uri,\n",
    "            \"S3DataType\": \"S3Prefix\",\n",
    "            \"S3InputMode\": \"File\",\n",
    "        },\n",
    "    }\n",
    "\n",
    "def create_s3_processing_input(base_dir, name, dataset_definition):\n",
    "    return {\n",
    "        \"InputName\": name,\n",
    "        \"S3Input\": {\n",
    "            \"LocalPath\": f\"{base_dir}/{name}\",\n",
    "            \"S3Uri\": dataset_definition[\"s3ExecutionContext\"][\"s3Uri\"],\n",
    "            \"S3DataType\": \"S3Prefix\",\n",
    "            \"S3InputMode\": \"File\",\n",
    "        },\n",
    "    }\n",
    "\n",
    "def create_redshift_processing_input(base_dir, name, dataset_definition):\n",
    "    return {\n",
    "        \"InputName\": name,\n",
    "        \"DatasetDefinition\": {\n",
    "            \"RedshiftDatasetDefinition\": {\n",
    "                \"ClusterId\": dataset_definition[\"clusterIdentifier\"],\n",
    "                \"Database\": dataset_definition[\"database\"],\n",
    "                \"DbUser\": dataset_definition[\"dbUser\"],\n",
    "                \"QueryString\": dataset_definition[\"queryString\"],\n",
    "                \"ClusterRoleArn\": dataset_definition[\"unloadIamRole\"],\n",
    "                \"OutputS3Uri\": f'{dataset_definition[\"s3OutputLocation\"]}{name}/',\n",
    "                \"OutputFormat\": dataset_definition[\"outputFormat\"].upper(),\n",
    "            },\n",
    "            \"LocalPath\": f\"{base_dir}/{name}\",\n",
    "        },\n",
    "    }\n",
    "\n",
    "def create_athena_processing_input(base_dir, name, dataset_definition):\n",
    "    return {\n",
    "        \"InputName\": name,\n",
    "        \"DatasetDefinition\": {\n",
    "            \"AthenaDatasetDefinition\": {\n",
    "                \"Catalog\": dataset_definition[\"catalogName\"],\n",
    "                \"Database\": dataset_definition[\"databaseName\"],\n",
    "                \"QueryString\": dataset_definition[\"queryString\"],\n",
    "                \"OutputS3Uri\": f'{dataset_definition[\"s3OutputLocation\"]}{name}/',\n",
    "                \"OutputFormat\": dataset_definition[\"outputFormat\"].upper(),\n",
    "            },\n",
    "            \"LocalPath\": f\"{base_dir}/{name}\",\n",
    "        },\n",
    "    }\n",
    "\n",
    "def create_processing_inputs(processing_dir, flow, flow_uri):\n",
    "    \"\"\"Helper function for creating processing inputs\n",
    "    :param flow: loaded data wrangler flow notebook\n",
    "    :param flow_uri: S3 URI of the data wrangler flow notebook\n",
    "    \"\"\"\n",
    "    processing_inputs = []\n",
    "    flow_processing_input = create_flow_notebook_processing_input(processing_dir, flow_uri)\n",
    "    processing_inputs.append(flow_processing_input)\n",
    "\n",
    "    for node in flow[\"nodes\"]:\n",
    "        if \"dataset_definition\" in node[\"parameters\"]:\n",
    "            data_def = node[\"parameters\"][\"dataset_definition\"]\n",
    "            name = data_def[\"name\"]\n",
    "            source_type = data_def[\"datasetSourceType\"]\n",
    "\n",
    "            if source_type == \"S3\":\n",
    "                s3_processing_input = create_s3_processing_input(\n",
    "                    processing_dir, name, data_def)\n",
    "                processing_inputs.append(s3_processing_input)\n",
    "            elif source_type == \"Athena\":\n",
    "                athena_processing_input = create_athena_processing_input(\n",
    "                    processing_dir, name, data_def)\n",
    "                processing_inputs.append(athena_processing_input)\n",
    "            elif source_type == \"Redshift\":\n",
    "                redshift_processing_input = create_redshift_processing_input(\n",
    "                    processing_dir, name, data_def)\n",
    "                processing_inputs.append(redshift_processing_input)\n",
    "            else:\n",
    "                raise ValueError(f\"{source_type} is not supported for Data Wrangler Processing.\")\n",
    "    return processing_inputs"
   ]
  },
  {
   "cell_type": "markdown",
   "metadata": {},
   "source": [
    "## Start ProcessingJob\n",
    "Now, the Processing Job is submitted to a boto client. The status of the processing job is\n",
    "monitored with the boto client, and this notebook waits until the job is no longer 'InProgress'."
   ]
  },
  {
   "cell_type": "code",
   "execution_count": 32,
   "metadata": {},
   "outputs": [
    {
     "name": "stdout",
     "output_type": "stream",
     "text": [
      "Processing Job Name: data-wrangler-feature-store-processing-31-16-16-17-9f41d66b\n",
      "InProgress\n",
      "InProgress\n",
      "InProgress\n",
      "InProgress\n",
      "InProgress\n",
      "InProgress\n",
      "Completed\n",
      "{'ProcessingInputs': [{'InputName': 'flow', 'AppManaged': False, 'S3Input': {'S3Uri': 's3://sagemaker-us-east-1-367158743199/data_wrangler_flows/flow-sm-tutorial-31-16-16-17-9f41d66b.flow', 'LocalPath': '/opt/ml/processing/flow', 'S3DataType': 'S3Prefix', 'S3InputMode': 'File', 'S3DataDistributionType': 'FullyReplicated'}}, {'InputName': 'dataset.csv', 'AppManaged': False, 'S3Input': {'S3Uri': 's3://sagemaker-us-east-1-367158743199/sagemaker-tutorial/data/dataset.csv', 'LocalPath': '/opt/ml/processing/dataset.csv', 'S3DataType': 'S3Prefix', 'S3InputMode': 'File', 'S3DataDistributionType': 'FullyReplicated'}}], 'ProcessingOutputConfig': {'Outputs': [{'OutputName': 'a23a9cd7-bf8c-40b0-be11-2adfa82f0632.default', 'FeatureStoreOutput': {'FeatureGroupName': 'FG-flow-sm-tutorial-31-16-16-17-9f41d66b'}, 'AppManaged': True}]}, 'ProcessingJobName': 'data-wrangler-feature-store-processing-31-16-16-17-9f41d66b', 'ProcessingResources': {'ClusterConfig': {'InstanceCount': 1, 'InstanceType': 'ml.m5.4xlarge', 'VolumeSizeInGB': 30}}, 'StoppingCondition': {'MaxRuntimeInSeconds': 86400}, 'AppSpecification': {'ImageUri': '663277389841.dkr.ecr.us-east-1.amazonaws.com/sagemaker-data-wrangler-container:1.x'}, 'RoleArn': 'arn:aws:iam::367158743199:role/service-role/AmazonSageMaker-ExecutionRole-20201216T145690', 'ProcessingJobArn': 'arn:aws:sagemaker:us-east-1:367158743199:processing-job/data-wrangler-feature-store-processing-31-16-16-17-9f41d66b', 'ProcessingJobStatus': 'Completed', 'ProcessingEndTime': datetime.datetime(2021, 3, 31, 16, 22, 43, 452000, tzinfo=tzlocal()), 'ProcessingStartTime': datetime.datetime(2021, 3, 31, 16, 21, 26, 128000, tzinfo=tzlocal()), 'LastModifiedTime': datetime.datetime(2021, 3, 31, 16, 22, 43, 455000, tzinfo=tzlocal()), 'CreationTime': datetime.datetime(2021, 3, 31, 16, 17, 11, 103000, tzinfo=tzlocal()), 'ResponseMetadata': {'RequestId': '90141cd2-fd08-45a4-a608-27adf95ea7bf', 'HTTPStatusCode': 200, 'HTTPHeaders': {'x-amzn-requestid': '90141cd2-fd08-45a4-a608-27adf95ea7bf', 'content-type': 'application/x-amz-json-1.1', 'content-length': '1726', 'date': 'Wed, 31 Mar 2021 16:23:10 GMT'}, 'RetryAttempts': 0}}\n"
     ]
    }
   ],
   "source": [
    "# Processing job name\n",
    "print(f'Processing Job Name: {processing_job_name}')\n",
    "\n",
    "processingResources = {\n",
    "        'ClusterConfig': {\n",
    "            'InstanceCount': 1,\n",
    "            'InstanceType': 'ml.m5.4xlarge',\n",
    "            'VolumeSizeInGB': 30\n",
    "        }\n",
    "    }\n",
    "\n",
    "appSpecification = {'ImageUri': container_uri}\n",
    "\n",
    "sagemaker_client.create_processing_job(\n",
    "        ProcessingInputs=create_processing_inputs(processing_dir, flow, flow_uri),\n",
    "        ProcessingOutputConfig={\n",
    "            'Outputs': [\n",
    "                {\n",
    "                    'OutputName': 'a23a9cd7-bf8c-40b0-be11-2adfa82f0632.default',\n",
    "                    'FeatureStoreOutput': {\n",
    "                        'FeatureGroupName': feature_group_name\n",
    "                    },\n",
    "                    'AppManaged': True\n",
    "                }\n",
    "            ],\n",
    "        },\n",
    "        ProcessingJobName=processing_job_name,\n",
    "        ProcessingResources=processingResources,\n",
    "        AppSpecification=appSpecification,\n",
    "        RoleArn=iam_role\n",
    "    )\n",
    "\n",
    "\n",
    "status = sagemaker_client.describe_processing_job(ProcessingJobName=processing_job_name)\n",
    "\n",
    "while status['ProcessingJobStatus'] in ('InProgress', 'Failed'):\n",
    "    if status['ProcessingJobStatus'] == 'Failed':\n",
    "        raise RuntimeError(f\"Processing Job failed: {status}\")\n",
    "    status = sagemaker_client.describe_processing_job(ProcessingJobName=processing_job_name)\n",
    "    print(status['ProcessingJobStatus'])\n",
    "    time.sleep(60)\n",
    "\n",
    "print(status)\n"
   ]
  },
  {
   "cell_type": "markdown",
   "metadata": {},
   "source": [
    "### Cleanup\n",
    "Uncomment the following code cell to revert the SageMaker Python SDK to the original version used\n",
    "before running this notebook. This notebook upgrades the SageMaker Python SDK to 2.x, which may\n",
    "cause other example notebooks to break. To learn more about the changes introduced in the\n",
    "SageMaker Python SDK 2.x update, see\n",
    "[Use Version 2.x of the SageMaker Python SDK.](https://sagemaker.readthedocs.io/en/stable/v2.html)."
   ]
  },
  {
   "cell_type": "code",
   "execution_count": null,
   "metadata": {},
   "outputs": [],
   "source": [
    "# _ = subprocess.check_call(\n",
    "#         [sys.executable, \"-m\", \"pip\", \"install\", f\"sagemaker=={original_version}\"]\n",
    "#     )"
   ]
  }
 ],
 "metadata": {
  "instance_type": "ml.t3.medium",
  "kernelspec": {
   "display_name": "Python 3 (Data Science)",
   "language": "python",
   "name": "python3__SAGEMAKER_INTERNAL__arn:aws:sagemaker:us-east-1:081325390199:image/datascience-1.0"
  },
  "language_info": {
   "codemirror_mode": {
    "name": "ipython",
    "version": 3
   },
   "file_extension": ".py",
   "mimetype": "text/x-python",
   "name": "python",
   "nbconvert_exporter": "python",
   "pygments_lexer": "ipython3",
   "version": "3.7.10"
  }
 },
 "nbformat": 4,
 "nbformat_minor": 4
}
